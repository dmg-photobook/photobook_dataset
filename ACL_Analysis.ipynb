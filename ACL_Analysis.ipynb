{
 "cells": [
  {
   "cell_type": "code",
   "execution_count": 1,
   "metadata": {},
   "outputs": [],
   "source": [
    "import os\n",
    "import json\n",
    "import string\n",
    "import pickle\n",
    "import datetime\n",
    "import numpy as np\n",
    "import seaborn as sns\n",
    "import pandas as pd\n",
    "import matplotlib.pyplot as plt\n",
    "from nltk.tag import pos_tag\n",
    "from nltk import word_tokenize\n",
    "from nltk.corpus import stopwords\n",
    "from collections import defaultdict\n",
    "from collections import Counter\n",
    "from matplotlib.colors import ListedColormap\n",
    "%matplotlib inline\n",
    "\n",
    "from ipywidgets import FloatProgress\n",
    "from IPython.display import display\n",
    "\n",
    "from processor import Log"
   ]
  },
  {
   "cell_type": "code",
   "execution_count": 2,
   "metadata": {},
   "outputs": [],
   "source": [
    "stop = stopwords.words('english') + list(string.punctuation)"
   ]
  },
  {
   "cell_type": "code",
   "execution_count": 3,
   "metadata": {},
   "outputs": [],
   "source": [
    "with open('oov_dictionary.pickle', 'rb') as f:\n",
    "    oov_dict = pickle.load(f)"
   ]
  },
  {
   "cell_type": "markdown",
   "metadata": {},
   "source": [
    "# Log Loader"
   ]
  },
  {
   "cell_type": "code",
   "execution_count": 4,
   "metadata": {},
   "outputs": [],
   "source": [
    "def load_logs(log_repository, data_path):\n",
    "\n",
    "    filepath = os.path.join(data_path, log_repository)\n",
    "    print(\"Loading logs from {}...\".format(filepath))\n",
    "\n",
    "    missing_counter = 0\n",
    "    file_count = 0\n",
    "    for _, _, files in os.walk(filepath):\n",
    "        file_count += len(files)\n",
    "    print(\"{} files found.\".format(file_count))\n",
    "    logs = []\n",
    "    for root, dirs, files in os.walk(filepath):\n",
    "        for file in files:\n",
    "            if file.endswith(\".json\"):\n",
    "                with open(os.path.join(root, file), 'r') as logfile:\n",
    "                    log = Log(json.load(logfile))\n",
    "                    if log.complete:\n",
    "                        logs.append(log)\n",
    "\n",
    "    print(\"DONE. Loaded {} completed game logs.\".format(len(logs)))\n",
    "    return logs"
   ]
  },
  {
   "cell_type": "code",
   "execution_count": 5,
   "metadata": {
    "scrolled": false
   },
   "outputs": [
    {
     "name": "stdout",
     "output_type": "stream",
     "text": [
      "Loading logs from logs...\n",
      "2502 files found.\n",
      "DONE. Loaded 2502 completed game logs.\n"
     ]
    }
   ],
   "source": [
    "data_path = \"\"\n",
    "logs = load_logs(\"logs\", data_path)"
   ]
  },
  {
   "cell_type": "markdown",
   "metadata": {},
   "source": [
    "# Transcript Printer"
   ]
  },
  {
   "cell_type": "code",
   "execution_count": 6,
   "metadata": {
    "scrolled": false
   },
   "outputs": [],
   "source": [
    "def print_transcript(log):\n",
    "    print(\"Game ID: {}\".format(log.game_id))\n",
    "    print(\"Domain ID: {}\".format(log.domain_id))\n",
    "    print(\"Image set main objects: '{}' and '{}'\".format(log.domains[0], log.domains[1]))\n",
    "    print(\"Participant IDs: {} and {}\".format(log.agent_ids[0], log.agent_ids[1]))\n",
    "    print(\"Start Time: {}\".format(log.start_time))\n",
    "    print(\"Duration: {}\".format(log.duration))\n",
    "    print(\"Total Score: {}\".format(log.total_score))\n",
    "    print(\"Player scores: A - {}, B - {}\".format(log.scores[\"A\"], log.scores[\"B\"]))\n",
    "    print(\"Transcript:\\n\")\n",
    "\n",
    "    for round_data in log.rounds:\n",
    "        print(\"Round {}\".format(round_data.round_nr))\n",
    "        for message in round_data.messages:\n",
    "            if message.type == \"text\":\n",
    "                print(\"[{}] {}: {}\".format(Log.format_time(message.timestamp), message.speaker, message.text))\n",
    "\n",
    "            if message.type == \"selection\":\n",
    "                label = \"common\" if message.text.split()[1] == \"<com>\" else \"different\"\n",
    "                print(\"[{}] {} marks image {} as {}\".format(Log.format_time(message.timestamp), message.speaker, Log.strip_image_id(message.text.split()[2]), label))\n",
    "\n",
    "        print(\"\\nDuration: {}\".format(round_data.duration))\n",
    "        print(\"Total Score: {}\".format(round_data.total_score))        \n",
    "        print(\"Player scores: A - {}, B - {}\".format(round_data.scores[\"A\"], round_data.scores[\"B\"]))\n",
    "        print(\"Number of messages: {}\\n\".format(round_data.num_messages))\n"
   ]
  },
  {
   "cell_type": "markdown",
   "metadata": {},
   "source": [
    "# Data Collector"
   ]
  },
  {
   "cell_type": "code",
   "execution_count": 7,
   "metadata": {},
   "outputs": [],
   "source": [
    "def collect_game_statistics(games_df, filtering=None, participants=None):\n",
    "\n",
    "    game_statistics = []\n",
    "\n",
    "    f = FloatProgress(min=0, max=len(games_df))\n",
    "    display(f)\n",
    "\n",
    "    for game_ID, game_df in games_df:\n",
    "        \n",
    "        if participants:\n",
    "            agents = set([game_df['Agent_1'].unique().tolist()[0], game_df['Agent_2'].unique().tolist()[0]])\n",
    "            if not participants.issuperset(agents):\n",
    "                f.value += 1\n",
    "                continue\n",
    "        \n",
    "        game_entry = [game_ID]\n",
    "        token_set = set()\n",
    "        content_token_set = set()\n",
    "        \n",
    "        if filtering:\n",
    "            last_selection = game_df.index[game_df['Message_Type'] == 'selection'].tolist()[-1]\n",
    "            end_time = game_df.loc[[last_selection]][\"Message_Timestamp\"].tolist()[0]\n",
    "            start_time = game_df.iloc[[0]][\"Message_Timestamp\"].tolist()[0]            \n",
    "            game_entry.append((end_time - start_time).total_seconds())\n",
    "        else:\n",
    "            game_entry.append(game_df['Game_Duration'].unique().tolist()[0]) \n",
    "        \n",
    "        game_entry.append(game_df['Game_Score'].unique().tolist()[0])\n",
    "            \n",
    "        for round_nr, round_df in game_df.groupby('Round_Nr'):\n",
    "            round_entry = [round_nr]            \n",
    "            if (filtering == 'last' and round_nr == 5) or filtering == 'all':\n",
    "                last_selection = round_df.index[round_df['Message_Type'] == 'selection'].tolist()[-1]\n",
    "                end_time = round_df.loc[[last_selection]][\"Message_Timestamp\"].tolist()[0]\n",
    "                start_time = round_df.iloc[[0]][\"Message_Timestamp\"].tolist()[0]\n",
    "                round_entry.append((end_time - start_time).total_seconds())\n",
    "            else:\n",
    "                round_entry.append(round_df['Round_Duration'].unique().tolist()[0])\n",
    "\n",
    "            messages = []\n",
    "            if (filtering == 'last' and round_nr == 5) or filtering == 'all':\n",
    "                for player_label, player_df in round_df.groupby('Message_Agent_ID'):    \n",
    "\n",
    "                    last_selection = player_df.index[player_df['Message_Type'] == 'selection'].tolist()[-1]\n",
    "                    for index, row in player_df.iterrows():\n",
    "                        if row['Message_Type'] == 'text':\n",
    "                            messages.append(row['Message_Text'])\n",
    "                        elif row['Message_Type'] == 'selection' and index == last_selection:\n",
    "                            break\n",
    "            else:\n",
    "                messages = round_df.loc[round_df['Message_Type'] == 'text']['Message_Text'].tolist()            \n",
    "\n",
    "            tokens = []\n",
    "            for message in messages:   \n",
    "                m_tokens = [i for i in word_tokenize(message.lower())]\n",
    "                m_tokens_spell = [word if word not in oov_dict else oov_dict[word] for word in m_tokens]\n",
    "                tokens.extend(m_tokens_spell)\n",
    "\n",
    "            content_tokens = [i for i in tokens if i not in stop]\n",
    "            token_count = len(tokens)\n",
    "            content_count = len(content_tokens)\n",
    "            \n",
    "            if len(messages) > 0:\n",
    "                token_message_ratio = token_count / float(len(messages))\n",
    "            else: \n",
    "                token_message_ratio = 0\n",
    "            \n",
    "            unique_tokens = set(tokens) \n",
    "            unique_content_tokens = set(content_tokens) \n",
    "            \n",
    "            unique_token_count = len(unique_tokens)\n",
    "            unique_content_count = len(unique_content_tokens)\n",
    "            \n",
    "            prev_unique_tokens = len(token_set)\n",
    "            prev_content_tokens = len(content_token_set)\n",
    "\n",
    "            token_set = token_set.union(unique_tokens)\n",
    "            content_token_set = content_token_set.union(unique_content_tokens)\n",
    "\n",
    "            new_tokens = len(token_set) - prev_unique_tokens\n",
    "            new_content_tokens = len(content_token_set) - prev_content_tokens\n",
    "\n",
    "            score = round_df.mean()[\"Round_Scores\"]\n",
    "            \n",
    "            if token_count > 0:\n",
    "                unique_ratio = unique_token_count/float(token_count)\n",
    "                content_ratio = content_count/float(token_count) \n",
    "            else:\n",
    "                unique_ratio = content_ratio = 0\n",
    "            if unique_token_count > 0:\n",
    "                content_unique_ratio = unique_content_count/float(unique_token_count)\n",
    "            else:\n",
    "                content_unique_ratio = 0\n",
    "            \n",
    "            round_entry.extend([score, len(messages), token_count, token_message_ratio, content_count, unique_token_count, unique_content_count, \\\n",
    "                                new_tokens, new_content_tokens, unique_ratio, content_ratio, content_unique_ratio])\n",
    "                  \n",
    "            game_statistics.append(game_entry + round_entry)    \n",
    "            \n",
    "        f.value += 1\n",
    "\n",
    "    game_statistics_df = pd.DataFrame(game_statistics, columns=[\"Game_ID\", \"Game_Duration\", \"Game_Score\", \"Round_Nr\", \\\n",
    "                         \"Duration\", \"Score\", \"Messages\", \"Tokens\", \"Tokens/Message\", \"Content\", \"Unique\", \"Unique_Content\", \\\n",
    "                         \"New\", \"New_Content\", \"Unique/Total\", \"Content/Total\", \"Unique_Content/Unique\"])\n",
    "    \n",
    "    return game_statistics_df"
   ]
  },
  {
   "cell_type": "code",
   "execution_count": 8,
   "metadata": {},
   "outputs": [],
   "source": [
    "def collect_dataset(logs):\n",
    "    labels = [\"Game_ID\", \"Game_Domain_ID\", \"Game_Domain_1\", \"Game_Domain_2\", \"Game_Duration\", \"Game_Score\", \\\n",
    "              \"Feedback_A\", \"Feedback_B\", 'Agent_1', \"Agent_2\", \\\n",
    "              \"Round_Nr\", \"Round_Duration\", \"Round_Scores\", \"Round_Images_A\", \"Round_Images_B\", \\\n",
    "              \"Round_Common\", \"Round_Highlighted_A\", \"Round_Highlighted_B\",\\\n",
    "              \"Message_Nr\", \"Message_Timestamp\", \"Message_Turn\", \"Message_Agent_ID\", \\\n",
    "              \"Message_Speaker\", \"Message_Type\", \"Message_Text\"]\n",
    "    dataset = []\n",
    "    for log in logs:\n",
    "        game_data = [log.game_id, log.domain_id, log.domains[0], log.domains[1], log.duration.total_seconds(), log.total_score, log.feedback[\"A\"], log.feedback[\"B\"], log.agent_ids[0], log.agent_ids[1]]\n",
    "        for game_round in log.rounds:\n",
    "            round_data = [game_round.round_nr-1, game_round.duration.total_seconds(), game_round.total_score, game_round.images[\"A\"], game_round.images[\"B\"], game_round.common, game_round.highlighted[\"A\"], game_round.highlighted[\"B\"]]\n",
    "            for message in game_round.messages:\n",
    "                message_data = [message.message_id, message.timestamp, message.turn, message.agent_id, \\\n",
    "                                message.speaker, message.type, message.text] \n",
    "                dataset.append(game_data + round_data + message_data)\n",
    "                \n",
    "    df = pd.DataFrame(dataset, columns=labels)\n",
    "                \n",
    "    return df "
   ]
  },
  {
   "cell_type": "code",
   "execution_count": 9,
   "metadata": {},
   "outputs": [],
   "source": [
    "dataset = collect_dataset(logs)"
   ]
  },
  {
   "cell_type": "code",
   "execution_count": 10,
   "metadata": {},
   "outputs": [],
   "source": [
    "dataset.to_csv('dataset.csv', index = False)"
   ]
  },
  {
   "cell_type": "code",
   "execution_count": 11,
   "metadata": {},
   "outputs": [],
   "source": [
    "dataset.to_pickle('dataset.pickle')"
   ]
  },
  {
   "cell_type": "code",
   "execution_count": 12,
   "metadata": {},
   "outputs": [],
   "source": [
    "games_df = dataset.groupby('Game_ID')"
   ]
  },
  {
   "cell_type": "markdown",
   "metadata": {},
   "source": [
    "# Data Filter"
   ]
  },
  {
   "cell_type": "code",
   "execution_count": 13,
   "metadata": {},
   "outputs": [],
   "source": [
    "def collect_worker_data(logs):\n",
    "    worker_data = []\n",
    "\n",
    "    for log in logs:\n",
    "        worker_1, worker_2 = log.agent_ids\n",
    "        timestamp = log.start_time\n",
    "        score = log.total_score\n",
    "        messages = 0\n",
    "        tokens = []\n",
    "\n",
    "        for r, round_data in enumerate(log.rounds):\n",
    "            for message in round_data.messages:\n",
    "                if message.type == \"text\":\n",
    "                    messages += 1\n",
    "                    tokens.extend(word_tokenize(message.text))   \n",
    "\n",
    "        content_tokens = [i for i in tokens if i not in stop]\n",
    "        token_count = len(tokens)\n",
    "        content_count = len(content_tokens)\n",
    "\n",
    "        unique_tokens = set(tokens) \n",
    "        unique_content_tokens = set(content_tokens) \n",
    "\n",
    "        unique_token_count = len(unique_tokens)\n",
    "        unique_content_count = len(unique_content_tokens)\n",
    "\n",
    "        if token_count > 0:\n",
    "            unique_ratio = unique_token_count/float(token_count)\n",
    "            content_ratio = content_count/float(token_count) \n",
    "        else:\n",
    "            unique_ratio = content_ratio = 0\n",
    "        if unique_token_count > 0:\n",
    "            content_unique_ratio = unique_content_count/float(unique_token_count)\n",
    "        else:\n",
    "            content_unique_ratio = 0   \n",
    "\n",
    "        worker_data.append([worker_1, timestamp, score, log.duration.total_seconds(), messages, token_count, content_count, \\\n",
    "                            unique_token_count, unique_content_count, unique_ratio, content_ratio, content_unique_ratio])\n",
    "        worker_data.append([worker_2, timestamp, score, log.duration.total_seconds(), messages, token_count, content_count, \\\n",
    "                            unique_token_count, unique_content_count, unique_ratio, content_ratio, content_unique_ratio])\n",
    "    return pd.DataFrame(worker_data, columns=[\"Worker_ID\", \"Timestamp\", \"Score\", \"Duration\", \"Messages\", \\\n",
    "    \"Tokens\", \"Content\", \"Unique\", \"Unique_Content\", \"Unique/Total\", \"Content/Total\", \"Unique_Content/Unique\"])"
   ]
  },
  {
   "cell_type": "code",
   "execution_count": 14,
   "metadata": {},
   "outputs": [],
   "source": [
    "worker_data = collect_worker_data(logs)"
   ]
  },
  {
   "cell_type": "code",
   "execution_count": 15,
   "metadata": {},
   "outputs": [],
   "source": [
    "worker_data.to_csv('worker_data.csv', index = False)"
   ]
  },
  {
   "cell_type": "code",
   "execution_count": 16,
   "metadata": {},
   "outputs": [],
   "source": [
    "worker_data.to_pickle('worker_data.pickle')"
   ]
  },
  {
   "cell_type": "markdown",
   "metadata": {},
   "source": [
    "## Reduce dataset to participants who completed at least 2 games "
   ]
  },
  {
   "cell_type": "code",
   "execution_count": 17,
   "metadata": {},
   "outputs": [],
   "source": [
    "game_data_first = []\n",
    "\n",
    "for worker_ID, data in worker_data.groupby(\"Worker_ID\"):\n",
    "    sorted_data = data.sort_values(by=['Timestamp'])   \n",
    "    if len(sorted_data) < 2 or len(sorted_data) > 5:\n",
    "        continue\n",
    "        \n",
    "    for i, (index, entry) in enumerate(sorted_data.iterrows()):\n",
    "        game_data_first.append([i+1] + [i for i in entry])\n",
    "        \n",
    "game_data_df_first = pd.DataFrame(game_data_first, columns=[\"Game_Nr\", \"Worker_ID\", \"Timestamp\", \"Score\", \"Duration\", \"Messages\", \\\n",
    "    \"Tokens\", \"Content\", \"Unique\", \"Unique_Content\", \"Unique/Total\", \"Content/Total\", \"Unique_Content/Unique\"])\n",
    "game_data_df_first = game_data_df_first.drop([\"Timestamp\"], axis = 1)\n",
    "game_data_df_first.to_pickle(\"game_data_df_first.pickle\")"
   ]
  },
  {
   "cell_type": "code",
   "execution_count": 18,
   "metadata": {},
   "outputs": [],
   "source": [
    "two_games_workers = game_data_df_first['Worker_ID'].unique().tolist()"
   ]
  },
  {
   "cell_type": "markdown",
   "metadata": {},
   "source": [
    "# Analysis"
   ]
  },
  {
   "cell_type": "code",
   "execution_count": 19,
   "metadata": {},
   "outputs": [
    {
     "data": {
      "application/vnd.jupyter.widget-view+json": {
       "model_id": "e4eeb53240984ca88985ff2cf13d66c9",
       "version_major": 2,
       "version_minor": 0
      },
      "text/plain": [
       "FloatProgress(value=0.0, max=2502.0)"
      ]
     },
     "metadata": {},
     "output_type": "display_data"
    }
   ],
   "source": [
    "game_statistics_df = collect_game_statistics(games_df, filtering='all', participants = set(two_games_workers))"
   ]
  },
  {
   "cell_type": "code",
   "execution_count": 20,
   "metadata": {},
   "outputs": [],
   "source": [
    "game_statistics_df.to_csv('game_statistics.csv', index = False)"
   ]
  },
  {
   "cell_type": "code",
   "execution_count": 21,
   "metadata": {},
   "outputs": [],
   "source": [
    "game_statistics_df.to_pickle('game_statistics.pickle')"
   ]
  },
  {
   "cell_type": "markdown",
   "metadata": {},
   "source": [
    "## Efficiency"
   ]
  },
  {
   "cell_type": "code",
   "execution_count": 22,
   "metadata": {},
   "outputs": [
    {
     "name": "stderr",
     "output_type": "stream",
     "text": [
      "/home/janosch/anaconda3/lib/python3.7/site-packages/scipy/stats/stats.py:1713: FutureWarning: Using a non-tuple sequence for multidimensional indexing is deprecated; use `arr[tuple(seq)]` instead of `arr[seq]`. In the future this will be interpreted as an array index, `arr[np.array(seq)]`, which will result either in an error or a different result.\n",
      "  return np.add.reduce(sorted[indexer] * weights, axis=axis) / sumval\n",
      "/home/janosch/anaconda3/lib/python3.7/site-packages/matplotlib/figure.py:457: UserWarning: matplotlib is currently using a non-GUI backend, so cannot show the figure\n",
      "  \"matplotlib is currently using a non-GUI backend, \"\n"
     ]
    },
    {
     "data": {
      "image/png": "[encoded data removed]",
      "text/plain": [
       "<Figure size 194.4x252 with 2 Axes>"
      ]
     },
     "metadata": {
      "needs_background": "light"
     },
     "output_type": "display_data"
    }
   ],
   "source": [
    "dimensions = (2.7,3.5)\n",
    "\n",
    "fig, temp = plt.subplots(1, figsize=dimensions)\n",
    "\n",
    "title = 'Duration per Game Round'\n",
    "x_label = 'Game Round'\n",
    "y_label_1 = 'Blue: Duration (in Seconds)'\n",
    "\n",
    "selector = \"Round_Nr\"\n",
    "variable = \"Duration\"\n",
    "filename = 'acl_efficiency'\n",
    "\n",
    "sns.pointplot(data=game_statistics_df, x=selector, y=variable, markers=[\".\"])\n",
    "ax = plt.twinx()\n",
    "\n",
    "title = 'Scores per Game Round'\n",
    "x_label = 'Game Round'\n",
    "y_label_2 = 'Red: Round Score (out of 6)'\n",
    "\n",
    "selector = \"Round_Nr\"\n",
    "variable = \"Score\"\n",
    "\n",
    "sns.pointplot(data=game_statistics_df, x=selector, y=variable, color=\"r\", linestyles=[\"--\"], markers=[\".\"])   \n",
    "ax.set_title(title)\n",
    "temp.set_xlabel(x_label)\n",
    "temp.set_ylabel(y_label_1)\n",
    "ax.set_ylabel(y_label_2)\n",
    "ax.set_ylim(5.6,5.8)\n",
    "temp.set_ylim(80, 190)\n",
    "temp = plt.gca().xaxis.grid(True, linestyle='--')\n",
    "fig.show()\n",
    "fig.savefig(\"figures/{}.pdf\".format(filename), bbox_inches='tight')\n"
   ]
  },
  {
   "cell_type": "markdown",
   "metadata": {},
   "source": [
    "## Content Token Ratio"
   ]
  },
  {
   "cell_type": "code",
   "execution_count": 23,
   "metadata": {},
   "outputs": [
    {
     "name": "stderr",
     "output_type": "stream",
     "text": [
      "/home/janosch/anaconda3/lib/python3.7/site-packages/scipy/stats/stats.py:1713: FutureWarning: Using a non-tuple sequence for multidimensional indexing is deprecated; use `arr[tuple(seq)]` instead of `arr[seq]`. In the future this will be interpreted as an array index, `arr[np.array(seq)]`, which will result either in an error or a different result.\n",
      "  return np.add.reduce(sorted[indexer] * weights, axis=axis) / sumval\n"
     ]
    },
    {
     "data": {
      "image/png": "[encoded data removed]",
      "text/plain": [
       "<Figure size 223.2x266.4 with 1 Axes>"
      ]
     },
     "metadata": {
      "needs_background": "light"
     },
     "output_type": "display_data"
    }
   ],
   "source": [
    "dimensions = (3.1,3.7)\n",
    "fig, ax = plt.subplots(1, figsize=dimensions)\n",
    "\n",
    "title = 'Ratio of Content Tokens vs. Total Tokens'\n",
    "x_label = 'Game Round'\n",
    "y_label = 'Content Token/Total Token Ratio'\n",
    "\n",
    "selector = \"Round_Nr\"\n",
    "variable = \"Content/Total\"\n",
    "filename = 'acl_ratio_content'\n",
    "\n",
    "sns.regplot(x=selector, y=variable, marker=\"o\", data=game_statistics_df, x_estimator=np.mean, line_kws={'color': 'gray', \"alpha\":0.5,\"lw\":2})\n",
    "plt.ylim(0.47,0.57)\n",
    "plt.xlim(0.5,5.5)\n",
    "plt.xlabel(x_label)\n",
    "plt.ylabel(y_label)\n",
    "plt.tick_params(labelsize=10,labelcolor=\"black\")\n",
    "plt.gca().yaxis.grid(True, linestyle='--')\n",
    "\n",
    "plt.tight_layout()\n",
    "plt.show()\n",
    "fig.savefig(\"figures/{}.pdf\".format(filename), bbox_inches='tight')"
   ]
  },
  {
   "cell_type": "markdown",
   "metadata": {},
   "source": [
    "## Novel Tokens"
   ]
  },
  {
   "cell_type": "code",
   "execution_count": 24,
   "metadata": {},
   "outputs": [],
   "source": [
    "game_statistics_df[\"Novel_Content_Ratio\"] = game_statistics_df[\"New_Content\"] / game_statistics_df[\"Content\"]"
   ]
  },
  {
   "cell_type": "code",
   "execution_count": 25,
   "metadata": {},
   "outputs": [
    {
     "name": "stderr",
     "output_type": "stream",
     "text": [
      "/home/janosch/anaconda3/lib/python3.7/site-packages/scipy/stats/stats.py:1713: FutureWarning: Using a non-tuple sequence for multidimensional indexing is deprecated; use `arr[tuple(seq)]` instead of `arr[seq]`. In the future this will be interpreted as an array index, `arr[np.array(seq)]`, which will result either in an error or a different result.\n",
      "  return np.add.reduce(sorted[indexer] * weights, axis=axis) / sumval\n"
     ]
    },
    {
     "data": {
      "image/png": "[encoded data removed]",
      "text/plain": [
       "<Figure size 223.2x266.4 with 1 Axes>"
      ]
     },
     "metadata": {
      "needs_background": "light"
     },
     "output_type": "display_data"
    }
   ],
   "source": [
    "fig, ax = plt.subplots(1, figsize=dimensions)\n",
    "\n",
    "title = 'Tokens Introduced to the Conversation'\n",
    "x_label = 'Game Round'\n",
    "y_label = 'Ratio of New Content Tokens'\n",
    "\n",
    "selector = \"Round_Nr\"\n",
    "variable = \"Novel_Content_Ratio\"\n",
    "filename = 'acl_new_tokens'\n",
    "\n",
    "sns.pointplot(data=game_statistics_df, x=selector, y=variable, markers=[\".\"])   \n",
    "plt.xlabel(\"Game Round\")\n",
    "plt.ylabel(y_label)\n",
    "plt.gca().yaxis.grid(True, linestyle='--')\n",
    "plt.ylim(0,1)\n",
    "\n",
    "plt.tight_layout()\n",
    "plt.show()\n",
    "fig.savefig(\"figures/{}.pdf\".format(filename), bbox_inches='tight')"
   ]
  },
  {
   "cell_type": "markdown",
   "metadata": {},
   "source": [
    "# Linguistic Analysis"
   ]
  },
  {
   "cell_type": "code",
   "execution_count": 26,
   "metadata": {},
   "outputs": [],
   "source": [
    "def collect_pos_tag_statistics(games_df, filtering=None):\n",
    "\n",
    "    pos_statistics = []\n",
    "\n",
    "    f = FloatProgress(min=0, max=len(games_df))\n",
    "    display(f)\n",
    "\n",
    "    for game_ID, game_df in games_df:        \n",
    "        for round_nr, round_df in game_df.groupby('Round_Nr'):                  \n",
    "            messages = []\n",
    "            if (filtering == 'last' and round_nr == 5) or filtering == 'all':\n",
    "                for player_label, player_df in round_df.groupby('Message_Agent_ID'):    \n",
    "\n",
    "                    last_selection = player_df.index[player_df['Message_Type'] == 'selection'].tolist()[-1]\n",
    "                    for index, row in player_df.iterrows():\n",
    "                        if row['Message_Type'] == 'text':\n",
    "                            messages.append(row['Message_Text'])\n",
    "                        elif row['Message_Type'] == 'selection' and index == last_selection:\n",
    "                            break\n",
    "            else:\n",
    "                messages = round_df.loc[round_df['Message_Type'] == 'text']['Message_Text'].tolist()            \n",
    "\n",
    "            pos_tags = []\n",
    "            for message in messages:   \n",
    "                m_tokens = [i for i in word_tokenize(message.lower())]\n",
    "                m_tokens_spell = [word if word not in oov_dict else oov_dict[word] for word in m_tokens]\n",
    "                pos_tags += [item[1] for item in pos_tag(m_tokens_spell, tagset='universal')]\n",
    "                \n",
    "                \n",
    "            if len(pos_tags) == 0:\n",
    "                continue\n",
    "            pos_tag_dict = dict()       \n",
    "            for key,value in dict(Counter(pos_tags)).items():\n",
    "                pos_tag_dict[key] = [value]  \n",
    "            pos_tag_dict['Round_Nr'] = round_nr\n",
    "            round_entry_df = pd.DataFrame.from_dict(pos_tag_dict)\n",
    "            pos_statistics.append(round_entry_df)\n",
    "            \n",
    "        f.value += 1\n",
    "        \n",
    "    pos_statistics_df = pd.concat(pos_statistics)\n",
    "    return pos_statistics_df\n"
   ]
  },
  {
   "cell_type": "code",
   "execution_count": 27,
   "metadata": {},
   "outputs": [
    {
     "data": {
      "application/vnd.jupyter.widget-view+json": {
       "model_id": "3ffc24b535e94215ae0caee7d630292f",
       "version_major": 2,
       "version_minor": 0
      },
      "text/plain": [
       "FloatProgress(value=0.0, max=2502.0)"
      ]
     },
     "metadata": {},
     "output_type": "display_data"
    },
    {
     "name": "stderr",
     "output_type": "stream",
     "text": [
      "/home/janosch/anaconda3/lib/python3.7/site-packages/ipykernel_launcher.py:41: FutureWarning: Sorting because non-concatenation axis is not aligned. A future version\n",
      "of pandas will change to not sort by default.\n",
      "\n",
      "To accept the future behavior, pass 'sort=False'.\n",
      "\n",
      "To retain the current behavior and silence the warning, pass 'sort=True'.\n",
      "\n"
     ]
    }
   ],
   "source": [
    "pos_statistics_df = collect_pos_tag_statistics(games_df, 'last')"
   ]
  },
  {
   "cell_type": "code",
   "execution_count": 28,
   "metadata": {},
   "outputs": [],
   "source": [
    "pos_statistics_df = pos_statistics_df.fillna(0)"
   ]
  },
  {
   "cell_type": "markdown",
   "metadata": {},
   "source": [
    "## POS-Tag Distribution"
   ]
  },
  {
   "cell_type": "code",
   "execution_count": 29,
   "metadata": {},
   "outputs": [],
   "source": [
    "top_10 = ['NOUN', 'DET', 'VERB', 'ADP', 'ADJ', '.', 'ADV', 'NUM', 'PRON', 'CONJ']"
   ]
  },
  {
   "cell_type": "code",
   "execution_count": 30,
   "metadata": {},
   "outputs": [],
   "source": [
    "labels_10 = []\n",
    "sum_list = []\n",
    "\n",
    "for round_nr, round_data in pos_statistics_df.groupby('Round_Nr'):\n",
    "    round_data = round_data[top_10]\n",
    "    sum_list.append(round_data.sum(axis = 0).tolist())\n",
    "    labels_10 = round_data.sum(axis = 0).keys()"
   ]
  },
  {
   "cell_type": "code",
   "execution_count": 31,
   "metadata": {},
   "outputs": [],
   "source": [
    "pos_tag_df = pd.DataFrame(sum_list, columns = labels_10, index=[1,2,3,4,5])"
   ]
  },
  {
   "cell_type": "code",
   "execution_count": 32,
   "metadata": {},
   "outputs": [],
   "source": [
    "pos_tag_df = pos_tag_df.div(pos_tag_df.sum(axis=1), axis=0)"
   ]
  },
  {
   "cell_type": "code",
   "execution_count": 33,
   "metadata": {},
   "outputs": [],
   "source": [
    "def generate_pos_distribution(pos_tag_df):\n",
    "                    \n",
    "#     top_10 = ['NOUN', 'DET', 'VERB', 'ADP', 'ADJ', '.', 'ADV', 'NUM', 'PRON', 'CONJ']\n",
    "    top_10 = ['NOUN', 'VERB', 'ADJ', 'ADV']\n",
    "\n",
    "    my_cmap = ListedColormap(sns.color_palette(\"Paired\", 10).as_hex())\n",
    "    colors = [list(my_cmap(i)) for i in range(10)]\n",
    "    colors = colors[0:4] + [colors[5]] + [colors[4]] + colors[6:]\n",
    "    colors = np.asarray(colors)\n",
    "\n",
    "    filename = \"figures/pos_tag_distribution.pdf\"\n",
    "    title = \"POS-Tag Distribuion per Round\"\n",
    "    x_label = \"Game Round\"\n",
    "    y_label = \"Relative POS-Tag Distribution\"\n",
    "    fig_size = (4,3.5)\n",
    "\n",
    "    fig, ax = plt.subplots(1, figsize=fig_size)\n",
    "    ax = pos_tag_df.plot.bar(stacked=True, color=colors, ax=ax, width=1);\n",
    "\n",
    "    ax.set_title(title)\n",
    "    ax.set_xlabel(x_label)\n",
    "    ax.set_ylabel(y_label)\n",
    "    ax.legend(loc='upper center', title='POS-Tag', bbox_to_anchor=(1.2, 0.92), ncol=1)\n",
    "    ax.set_ylim(0,1)\n",
    "    ax.set_xlim(-0.5,4.5)\n",
    "    vals = ax.get_yticks()\n",
    "    ax.set_yticklabels(['{:3.0f}%'.format(x*100) for x in vals])\n",
    "    plt.xticks(rotation='horizontal')\n",
    "    fig.show()\n",
    "    fig.savefig(filename, bbox_inches='tight')\n",
    "       \n",
    "    for compare_to in range(5,6):\n",
    "        print(compare_to)\n",
    "        filename = \"figures/pos_tag_change_to{}.pdf\".format(compare_to)\n",
    "        title = \"POS-Tag Distribution Change between Round 1 and {}\".format(compare_to)\n",
    "        x_label = \"POS-Tag\"\n",
    "        y_label = \"Change in relaticve Distribution\"\n",
    "        fig_size = (2.4,3.5)\n",
    "    \n",
    "        change_list = [] \n",
    "        for pos_tag in top_10:\n",
    "            entries = pos_tag_df[pos_tag].values\n",
    "            change_list.append([pos_tag, (entries[compare_to-1] - entries[0]) / entries[0]])\n",
    "        \n",
    "        change_df = pd.DataFrame(change_list, columns=[\"Tag\", \"Change\"])\n",
    "        print(change_df)\n",
    "            \n",
    "        fig, ax = plt.subplots(1, figsize=fig_size)\n",
    "        change_df.plot.bar(x = \"Tag\", color=colors, ax=ax, width=0.7);\n",
    "        for i, bar in enumerate(ax.patches):\n",
    "            bar.set_color(colors[i%10])\n",
    "            bar.set_hatch(hatch=\"//\")\n",
    "            \n",
    "        ax.set_xlabel(x_label)\n",
    "        ax.set_ylabel(y_label)\n",
    "        ax.legend(\"\")\n",
    "        ax.legend_.remove()\n",
    "        ax.set_ylim(-0.3,0.3)\n",
    "        plt.gca().yaxis.grid(True)\n",
    "        ax.set_axisbelow(True)\n",
    "        vals = ax.get_yticks()\n",
    "        ax.set_yticklabels(['{:3.0f}%'.format(x*100) for x in vals])\n",
    "        plt.xticks(rotation='horizontal')\n",
    "\n",
    "        fig.show()\n",
    "        fig.savefig(filename, bbox_inches='tight')"
   ]
  },
  {
   "cell_type": "code",
   "execution_count": 34,
   "metadata": {},
   "outputs": [
    {
     "name": "stderr",
     "output_type": "stream",
     "text": [
      "/home/janosch/anaconda3/lib/python3.7/site-packages/matplotlib/figure.py:457: UserWarning: matplotlib is currently using a non-GUI backend, so cannot show the figure\n",
      "  \"matplotlib is currently using a non-GUI backend, \"\n",
      "/home/janosch/anaconda3/lib/python3.7/site-packages/matplotlib/figure.py:457: UserWarning: matplotlib is currently using a non-GUI backend, so cannot show the figure\n",
      "  \"matplotlib is currently using a non-GUI backend, \"\n"
     ]
    },
    {
     "name": "stdout",
     "output_type": "stream",
     "text": [
      "5\n",
      "    Tag    Change\n",
      "0  NOUN  0.198088\n",
      "1  VERB -0.173258\n",
      "2   ADJ  0.078287\n",
      "3   ADV  0.118085\n"
     ]
    },
    {
     "data": {
      "image/png": "[encoded data removed]",
      "text/plain": [
       "<Figure size 288x252 with 1 Axes>"
      ]
     },
     "metadata": {
      "needs_background": "light"
     },
     "output_type": "display_data"
    },
    {
     "data": {
      "image/png": "[encoded data removed]",
      "text/plain": [
       "<Figure size 172.8x252 with 1 Axes>"
      ]
     },
     "metadata": {
      "needs_background": "light"
     },
     "output_type": "display_data"
    }
   ],
   "source": [
    "generate_pos_distribution(pos_tag_df)"
   ]
  }
 ],
 "metadata": {
  "kernelspec": {
   "display_name": "Python 3",
   "language": "python",
   "name": "python3"
  },
  "language_info": {
   "codemirror_mode": {
    "name": "ipython",
    "version": 3
   },
   "file_extension": ".py",
   "mimetype": "text/x-python",
   "name": "python",
   "nbconvert_exporter": "python",
   "pygments_lexer": "ipython3",
   "version": "3.7.2"
  }
 },
 "nbformat": 4,
 "nbformat_minor": 2
}
